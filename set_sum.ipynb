{
 "metadata": {
  "name": "",
  "signature": "sha256:dfdc0e31e5e62d2f452ce6b8fd71b267144535f7e5f1b41cd9454eefdba58a13"
 },
 "nbformat": 3,
 "nbformat_minor": 0,
 "worksheets": [
  {
   "cells": [
    {
     "cell_type": "code",
     "collapsed": false,
     "input": [
      "N = 100\n",
      "d = 9\n",
      "\n",
      "def main(N, d):\n",
      "    delta = 1 / (N * d**0.5)\n",
      "    lambdas = np.arange(delta, 1, delta)\n",
      "    A = set_A(N, d)\n",
      "    B = set_B(N, d)\n",
      "    phi = set_phi(A, B)\n",
      "    \n",
      "    print 'number of A:', len(A)\n",
      "    print 'number of B:', len(B)\n",
      "    print 'number of phi/S:', len(phi)\n",
      "    \n",
      "    # sort to speed up counting of comparison condition\n",
      "    phi = sorted(phi, reverse=True)\n",
      "    \n",
      "    l = 1\n",
      "    maxt = 0\n",
      "    eps = 1e-10\n",
      "    for i, p in enumerate(phi):\n",
      "        if p <= l:\n",
      "            maxt = max(maxt, l**0.5 * delta * i)\n",
      "            if p < delta:\n",
      "                break\n",
      "            l = p - eps\n",
      "    print 'sup of value:', maxt\n",
      "    return maxt    \n",
      "\n",
      "def set_phi(A, B):\n",
      "    phi = dict()\n",
      "    for a in A:\n",
      "        for b in B:\n",
      "            if a != b:\n",
      "                t = a + b\n",
      "                v = 2.0 / (b - a)\n",
      "                if t in phi:\n",
      "                    phi[t] += v\n",
      "                else:\n",
      "                    phi[t] = v\n",
      "    return [abs(x) for x in phi.values()]\n",
      "    \n",
      "def set_A(N, d):\n",
      "    return [i*d for i in range(1, N+1)]\n",
      "\n",
      "def set_B(N, d):\n",
      "    return [i*d+j for i in range(1, N+1) for j in range(1, (d-1)/2+1)]\n",
      "\n",
      "\n",
      "main(N, d)"
     ],
     "language": "python",
     "metadata": {},
     "outputs": [
      {
       "output_type": "stream",
       "stream": "stdout",
       "text": [
        "number of A: 1000\n",
        "number of B: 49000\n",
        "number of phi/S: 97951\n",
        "sup of value:"
       ]
      },
      {
       "output_type": "stream",
       "stream": "stdout",
       "text": [
        " 0.902972910568\n"
       ]
      },
      {
       "metadata": {},
       "output_type": "pyout",
       "prompt_number": 55,
       "text": [
        "0.9029729105683553"
       ]
      }
     ],
     "prompt_number": 55
    },
    {
     "cell_type": "code",
     "collapsed": false,
     "input": [],
     "language": "python",
     "metadata": {},
     "outputs": []
    }
   ],
   "metadata": {}
  }
 ]
}